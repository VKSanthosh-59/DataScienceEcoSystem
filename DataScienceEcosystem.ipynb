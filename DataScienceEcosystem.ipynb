{
 "cells": [
  {
   "cell_type": "markdown",
   "id": "47c119b0-0e38-43c2-8912-ef4245f96faf",
   "metadata": {},
   "source": [
    "__Data Science Tools and Ecosystem__"
   ]
  },
  {
   "cell_type": "markdown",
   "id": "2fcdbd9e-5b79-4279-9040-aeb7698dabcf",
   "metadata": {},
   "source": [
    "In this notebook, Data Science Tools and Ecosystem are summarized."
   ]
  },
  {
   "cell_type": "markdown",
   "id": "e92cd12d-8641-4f76-b387-6b0bf1a969dd",
   "metadata": {},
   "source": [
    "Some of the popular languages that Data Scientists use are:\n",
    "1. Python\n",
    "2. R\n",
    "3. SQL\n",
    "4. Java\n",
    "5. C\n",
    "6. C++\n",
    "7. Swift\n",
    "8. HTML\n",
    "9. CSS\n",
    "10. PHP"
   ]
  },
  {
   "cell_type": "markdown",
   "id": "7bb6ca7a-6d42-457c-b34c-3046c332e88f",
   "metadata": {},
   "source": [
    "Some of the commonly used libraries used by Data Scientists include:\n",
    "\n",
    "1. Matplotlib\n",
    "2. Numpy\n",
    "3. Pandas\n",
    "4. Tensorflow\n",
    "5. Keras\n",
    "6. Scikit-learn\n"
   ]
  },
  {
   "cell_type": "markdown",
   "id": "d2377f57-2a08-43d1-a33c-82d3d28a1e20",
   "metadata": {},
   "source": [
    "__Below are a few examples of evaluating arithmetic expressions in Python__"
   ]
  },
  {
   "cell_type": "code",
   "execution_count": 3,
   "id": "0b25f00e-68a1-4a4b-bfa2-c54225887730",
   "metadata": {
    "tags": []
   },
   "outputs": [
    {
     "data": {
      "text/plain": [
       "17"
      ]
     },
     "execution_count": 3,
     "metadata": {},
     "output_type": "execute_result"
    }
   ],
   "source": [
    "#this a simple arithmetic expression to mutiply then add integers\n",
    "(3*4)+5"
   ]
  },
  {
   "cell_type": "code",
   "execution_count": 4,
   "id": "4d9152f5-ba3c-465e-946a-73a044063b1c",
   "metadata": {
    "tags": []
   },
   "outputs": [
    {
     "data": {
      "text/plain": [
       "3.3333333333333335"
      ]
     },
     "execution_count": 4,
     "metadata": {},
     "output_type": "execute_result"
    }
   ],
   "source": [
    "#This will convert 200 minutes to hours by diving by 60\n",
    "200/60"
   ]
  },
  {
   "cell_type": "markdown",
   "id": "8245b6cc-aa86-4856-98e9-ac92c7ed5f62",
   "metadata": {},
   "source": [
    "__Objectives__\n",
    "\n",
    "* Python\n",
    "* R\n",
    "* SQL"
   ]
  },
  {
   "cell_type": "markdown",
   "id": "7957ec74-9a77-4f8d-b2da-8cfa63e879f9",
   "metadata": {},
   "source": [
    "__Author__\n",
    "\n",
    "Santhosh"
   ]
  },
  {
   "cell_type": "code",
   "execution_count": null,
   "id": "f429a8f2-4b6e-45d5-baad-a4b9aa45cd5a",
   "metadata": {},
   "outputs": [],
   "source": []
  }
 ],
 "metadata": {
  "kernelspec": {
   "display_name": "Python",
   "language": "python",
   "name": "conda-env-python-py"
  },
  "language_info": {
   "codemirror_mode": {
    "name": "ipython",
    "version": 3
   },
   "file_extension": ".py",
   "mimetype": "text/x-python",
   "name": "python",
   "nbconvert_exporter": "python",
   "pygments_lexer": "ipython3",
   "version": "3.7.12"
  }
 },
 "nbformat": 4,
 "nbformat_minor": 5
}
